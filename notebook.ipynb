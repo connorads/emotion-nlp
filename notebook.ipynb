{
    "cells": [
        {
            "cell_type": "markdown",
            "id": "48f8dd25",
            "metadata": {},
            "source": [
                "# Load Libraries\n"
            ]
        },
        {
            "cell_type": "code",
            "execution_count": null,
            "id": "20c4da1b",
            "metadata": {
                "_cell_guid": "b1076dfc-b9ad-4769-8c92-a6c4dae69d19",
                "_uuid": "8f2839f25d086af736a60e9eeb907d3b93b6e0e5",
                "execution": {
                    "iopub.execute_input": "2023-09-14T08:48:39.967980Z",
                    "iopub.status.busy": "2023-09-14T08:48:39.967573Z",
                    "iopub.status.idle": "2023-09-14T08:48:51.064255Z",
                    "shell.execute_reply": "2023-09-14T08:48:51.062767Z"
                },
                "papermill": {
                    "duration": 11.110294,
                    "end_time": "2023-09-14T08:48:51.066668",
                    "exception": false,
                    "start_time": "2023-09-14T08:48:39.956374",
                    "status": "completed"
                },
                "tags": []
            },
            "outputs": [],
            "source": [
                "import numpy as np\n",
                "import pandas as pd\n",
                "\n",
                "import seaborn as sns\n",
                "import nltk\n",
                "import matplotlib.pyplot as plt\n",
                "from wordcloud import WordCloud\n",
                "from sklearn.ensemble import RandomForestClassifier\n",
                "from sklearn.linear_model import LogisticRegression\n",
                "from sklearn.svm import LinearSVC\n",
                "from sklearn.naive_bayes import MultinomialNB\n",
                "from sklearn.feature_extraction.text import CountVectorizer\n",
                "from sklearn.model_selection import train_test_split\n",
                "from sklearn.metrics import accuracy_score, classification_report\n",
                "from sklearn.preprocessing import LabelEncoder\n",
                "from tensorflow.keras.preprocessing.text import Tokenizer\n",
                "from tensorflow.keras.preprocessing.sequence import pad_sequences\n",
                "from tensorflow.keras.metrics import Precision, Recall\n",
                "from tensorflow.keras.models import Sequential\n",
                "from tensorflow.keras.layers import Input, Embedding, LSTM, Dense, BatchNormalization\n",
                "from tensorflow.keras.layers import Conv1D, GlobalMaxPooling1D, Dropout, ReLU\n",
                "from tensorflow.keras.callbacks import EarlyStopping\n",
                "from keras.utils import to_categorical\n",
                "\n",
                "import os"
            ]
        },
        {
            "cell_type": "markdown",
            "id": "f28f17fc",
            "metadata": {
                "papermill": {
                    "duration": 0.008891,
                    "end_time": "2023-09-14T08:48:51.084862",
                    "exception": false,
                    "start_time": "2023-09-14T08:48:51.075971",
                    "status": "completed"
                },
                "tags": []
            },
            "source": [
                "# Load Data\n"
            ]
        },
        {
            "cell_type": "code",
            "execution_count": null,
            "id": "6f3c1d93",
            "metadata": {},
            "outputs": [],
            "source": [
                "for dirname, _, filenames in os.walk(\"input\"):\n",
                "    for filename in filenames:\n",
                "        print(os.path.join(dirname, filename))"
            ]
        },
        {
            "cell_type": "code",
            "execution_count": null,
            "id": "0a226b1d",
            "metadata": {
                "execution": {
                    "iopub.execute_input": "2023-09-14T08:48:51.105098Z",
                    "iopub.status.busy": "2023-09-14T08:48:51.104459Z",
                    "iopub.status.idle": "2023-09-14T08:48:51.110347Z",
                    "shell.execute_reply": "2023-09-14T08:48:51.109207Z"
                },
                "papermill": {
                    "duration": 0.018658,
                    "end_time": "2023-09-14T08:48:51.112742",
                    "exception": false,
                    "start_time": "2023-09-14T08:48:51.094084",
                    "status": "completed"
                },
                "tags": []
            },
            "outputs": [],
            "source": [
                "def load_dataset(filepath):\n",
                "    data = []\n",
                "    with open(filepath) as f:\n",
                "        lines = f.readlines()\n",
                "        for line in lines:\n",
                "            data.append(line.strip().split(\";\"))\n",
                "    return pd.DataFrame(data, columns=[\"text\", \"label\"])"
            ]
        },
        {
            "cell_type": "code",
            "execution_count": null,
            "id": "717380e3",
            "metadata": {
                "execution": {
                    "iopub.execute_input": "2023-09-14T08:48:51.134203Z",
                    "iopub.status.busy": "2023-09-14T08:48:51.133661Z",
                    "iopub.status.idle": "2023-09-14T08:48:51.210391Z",
                    "shell.execute_reply": "2023-09-14T08:48:51.209038Z"
                },
                "papermill": {
                    "duration": 0.090514,
                    "end_time": "2023-09-14T08:48:51.212903",
                    "exception": false,
                    "start_time": "2023-09-14T08:48:51.122389",
                    "status": "completed"
                },
                "tags": []
            },
            "outputs": [],
            "source": [
                "train_data = load_dataset(\"input/train.txt\")\n",
                "validation_data = load_dataset(\"input/val.txt\")\n",
                "test_data = load_dataset(\"input/test.txt\")"
            ]
        },
        {
            "cell_type": "code",
            "execution_count": null,
            "id": "d8ce4521",
            "metadata": {
                "execution": {
                    "iopub.execute_input": "2023-09-14T08:48:51.232791Z",
                    "iopub.status.busy": "2023-09-14T08:48:51.232437Z",
                    "iopub.status.idle": "2023-09-14T08:48:51.255942Z",
                    "shell.execute_reply": "2023-09-14T08:48:51.254828Z"
                },
                "papermill": {
                    "duration": 0.035911,
                    "end_time": "2023-09-14T08:48:51.258067",
                    "exception": false,
                    "start_time": "2023-09-14T08:48:51.222156",
                    "status": "completed"
                },
                "tags": []
            },
            "outputs": [],
            "source": [
                "df = pd.concat([train_data, validation_data, test_data])\n",
                "df.head()"
            ]
        },
        {
            "cell_type": "code",
            "execution_count": null,
            "id": "3e37b6a7",
            "metadata": {
                "execution": {
                    "iopub.execute_input": "2023-09-14T08:48:51.279494Z",
                    "iopub.status.busy": "2023-09-14T08:48:51.278895Z",
                    "iopub.status.idle": "2023-09-14T08:48:51.285820Z",
                    "shell.execute_reply": "2023-09-14T08:48:51.284784Z"
                },
                "papermill": {
                    "duration": 0.01991,
                    "end_time": "2023-09-14T08:48:51.287796",
                    "exception": false,
                    "start_time": "2023-09-14T08:48:51.267886",
                    "status": "completed"
                },
                "tags": []
            },
            "outputs": [],
            "source": [
                "df.shape"
            ]
        },
        {
            "cell_type": "markdown",
            "id": "c990f211",
            "metadata": {
                "papermill": {
                    "duration": 0.009461,
                    "end_time": "2023-09-14T08:48:51.307438",
                    "exception": false,
                    "start_time": "2023-09-14T08:48:51.297977",
                    "status": "completed"
                },
                "tags": []
            },
            "source": [
                "# Explore Data\n"
            ]
        },
        {
            "cell_type": "code",
            "execution_count": null,
            "id": "ec4fd64f",
            "metadata": {
                "execution": {
                    "iopub.execute_input": "2023-09-14T08:48:51.366013Z",
                    "iopub.status.busy": "2023-09-14T08:48:51.365429Z",
                    "iopub.status.idle": "2023-09-14T08:48:51.377530Z",
                    "shell.execute_reply": "2023-09-14T08:48:51.376536Z"
                },
                "papermill": {
                    "duration": 0.026502,
                    "end_time": "2023-09-14T08:48:51.379912",
                    "exception": false,
                    "start_time": "2023-09-14T08:48:51.353410",
                    "status": "completed"
                },
                "tags": []
            },
            "outputs": [],
            "source": [
                "df.isnull().sum()"
            ]
        },
        {
            "cell_type": "code",
            "execution_count": null,
            "id": "72469c7d",
            "metadata": {
                "execution": {
                    "iopub.execute_input": "2023-09-14T08:48:51.401000Z",
                    "iopub.status.busy": "2023-09-14T08:48:51.400674Z",
                    "iopub.status.idle": "2023-09-14T08:48:51.428171Z",
                    "shell.execute_reply": "2023-09-14T08:48:51.427126Z"
                },
                "papermill": {
                    "duration": 0.040199,
                    "end_time": "2023-09-14T08:48:51.430128",
                    "exception": false,
                    "start_time": "2023-09-14T08:48:51.389929",
                    "status": "completed"
                },
                "tags": []
            },
            "outputs": [],
            "source": [
                "df.duplicated().sum()"
            ]
        },
        {
            "cell_type": "code",
            "execution_count": null,
            "id": "0cc0c83b",
            "metadata": {
                "execution": {
                    "iopub.execute_input": "2023-09-14T08:48:51.451860Z",
                    "iopub.status.busy": "2023-09-14T08:48:51.451498Z",
                    "iopub.status.idle": "2023-09-14T08:48:51.470481Z",
                    "shell.execute_reply": "2023-09-14T08:48:51.469316Z"
                },
                "papermill": {
                    "duration": 0.032443,
                    "end_time": "2023-09-14T08:48:51.472696",
                    "exception": false,
                    "start_time": "2023-09-14T08:48:51.440253",
                    "status": "completed"
                },
                "tags": []
            },
            "outputs": [],
            "source": [
                "df.drop_duplicates(inplace=True)"
            ]
        },
        {
            "cell_type": "code",
            "execution_count": null,
            "id": "96098019",
            "metadata": {
                "execution": {
                    "iopub.execute_input": "2023-09-14T08:48:51.493352Z",
                    "iopub.status.busy": "2023-09-14T08:48:51.493009Z",
                    "iopub.status.idle": "2023-09-14T08:48:51.512527Z",
                    "shell.execute_reply": "2023-09-14T08:48:51.511638Z"
                },
                "papermill": {
                    "duration": 0.032128,
                    "end_time": "2023-09-14T08:48:51.514502",
                    "exception": false,
                    "start_time": "2023-09-14T08:48:51.482374",
                    "status": "completed"
                },
                "tags": []
            },
            "outputs": [],
            "source": [
                "df.info()"
            ]
        },
        {
            "cell_type": "code",
            "execution_count": null,
            "id": "d9cb6f0b",
            "metadata": {},
            "outputs": [],
            "source": [
                "df[\"label\"].unique()"
            ]
        },
        {
            "cell_type": "code",
            "execution_count": null,
            "id": "c42d1c04",
            "metadata": {},
            "outputs": [],
            "source": [
                "df.label.value_counts()"
            ]
        },
        {
            "cell_type": "code",
            "execution_count": null,
            "id": "46972321",
            "metadata": {
                "execution": {
                    "iopub.execute_input": "2023-09-14T08:48:51.536181Z",
                    "iopub.status.busy": "2023-09-14T08:48:51.535846Z",
                    "iopub.status.idle": "2023-09-14T08:48:51.753006Z",
                    "shell.execute_reply": "2023-09-14T08:48:51.752055Z"
                },
                "papermill": {
                    "duration": 0.230385,
                    "end_time": "2023-09-14T08:48:51.754888",
                    "exception": false,
                    "start_time": "2023-09-14T08:48:51.524503",
                    "status": "completed"
                },
                "tags": []
            },
            "outputs": [],
            "source": [
                "df[\"label\"].value_counts().plot(\n",
                "    kind=\"bar\", color=[\"green\", \"gray\", \"pink\", \"black\", \"red\", \"orange\"]\n",
                ")\n",
                "plt.xlabel(\"Labels\")\n",
                "plt.ylabel(\"Number of samples\")\n",
                "plt.show()"
            ]
        },
        {
            "cell_type": "code",
            "execution_count": null,
            "id": "01019dea",
            "metadata": {
                "execution": {
                    "iopub.execute_input": "2023-09-14T08:48:51.776478Z",
                    "iopub.status.busy": "2023-09-14T08:48:51.776135Z",
                    "iopub.status.idle": "2023-09-14T08:48:52.198196Z",
                    "shell.execute_reply": "2023-09-14T08:48:52.197119Z"
                },
                "papermill": {
                    "duration": 0.435118,
                    "end_time": "2023-09-14T08:48:52.200017",
                    "exception": false,
                    "start_time": "2023-09-14T08:48:51.764899",
                    "status": "completed"
                },
                "tags": []
            },
            "outputs": [],
            "source": [
                "df[\"length\"] = df.text.apply(lambda x: len(x))\n",
                "fig = plt.figure(figsize=(10, 6))\n",
                "sns.kdeplot(x=df[\"length\"], hue=df[\"label\"])\n",
                "plt.show()"
            ]
        },
        {
            "cell_type": "code",
            "execution_count": null,
            "id": "985accb6",
            "metadata": {
                "execution": {
                    "iopub.execute_input": "2023-09-14T08:48:52.247325Z",
                    "iopub.status.busy": "2023-09-14T08:48:52.246962Z",
                    "iopub.status.idle": "2023-09-14T08:49:01.052541Z",
                    "shell.execute_reply": "2023-09-14T08:49:01.051640Z"
                },
                "papermill": {
                    "duration": 8.819969,
                    "end_time": "2023-09-14T08:49:01.054399",
                    "exception": false,
                    "start_time": "2023-09-14T08:48:52.234430",
                    "status": "completed"
                },
                "tags": []
            },
            "outputs": [],
            "source": [
                "stopwords = set(nltk.corpus.stopwords.words(\"english\"))\n",
                "labels = df[\"label\"].unique()\n",
                "for label in labels:\n",
                "    text = \" \".join(df[df[\"label\"] == label][\"text\"])\n",
                "    wordcloud = WordCloud(\n",
                "        width=800,\n",
                "        height=800,\n",
                "        background_color=\"white\",\n",
                "        stopwords=stopwords,\n",
                "        min_font_size=10,\n",
                "    ).generate(text)\n",
                "    plt.figure(figsize=(4, 4), facecolor=None)\n",
                "    plt.imshow(wordcloud)\n",
                "    plt.axis(\"off\")\n",
                "    plt.tight_layout(pad=0)\n",
                "    plt.title(label)\n",
                "    plt.show()"
            ]
        },
        {
            "cell_type": "markdown",
            "id": "9fcfa365",
            "metadata": {
                "papermill": {
                    "duration": 0.02206,
                    "end_time": "2023-09-14T08:49:01.098218",
                    "exception": false,
                    "start_time": "2023-09-14T08:49:01.076158",
                    "status": "completed"
                },
                "tags": []
            },
            "source": [
                "# Models\n"
            ]
        },
        {
            "cell_type": "code",
            "execution_count": null,
            "id": "9da7ace2",
            "metadata": {
                "execution": {
                    "iopub.execute_input": "2023-09-14T08:49:01.198327Z",
                    "iopub.status.busy": "2023-09-14T08:49:01.197683Z",
                    "iopub.status.idle": "2023-09-14T08:49:01.206995Z",
                    "shell.execute_reply": "2023-09-14T08:49:01.205798Z"
                },
                "papermill": {
                    "duration": 0.034964,
                    "end_time": "2023-09-14T08:49:01.209100",
                    "exception": false,
                    "start_time": "2023-09-14T08:49:01.174136",
                    "status": "completed"
                },
                "tags": []
            },
            "outputs": [],
            "source": [
                "X_train, X_test, y_train, y_test = train_test_split(\n",
                "    df[\"text\"], df[\"label\"], test_size=0.2, random_state=44\n",
                ")"
            ]
        },
        {
            "cell_type": "code",
            "execution_count": null,
            "id": "1c344fd8",
            "metadata": {
                "execution": {
                    "iopub.execute_input": "2023-09-14T08:49:01.256168Z",
                    "iopub.status.busy": "2023-09-14T08:49:01.255566Z",
                    "iopub.status.idle": "2023-09-14T08:49:01.551391Z",
                    "shell.execute_reply": "2023-09-14T08:49:01.550046Z"
                },
                "papermill": {
                    "duration": 0.322157,
                    "end_time": "2023-09-14T08:49:01.553794",
                    "exception": false,
                    "start_time": "2023-09-14T08:49:01.231637",
                    "status": "completed"
                },
                "tags": []
            },
            "outputs": [],
            "source": [
                "cv = CountVectorizer()\n",
                "X_train_cv = cv.fit_transform(X_train)\n",
                "X_test_cv = cv.transform(X_test)"
            ]
        },
        {
            "cell_type": "markdown",
            "id": "5a9f79bf",
            "metadata": {
                "papermill": {
                    "duration": 0.022481,
                    "end_time": "2023-09-14T08:49:01.599031",
                    "exception": false,
                    "start_time": "2023-09-14T08:49:01.576550",
                    "status": "completed"
                },
                "tags": []
            },
            "source": [
                "## Random Forest\n"
            ]
        },
        {
            "cell_type": "code",
            "execution_count": null,
            "id": "a58db82b",
            "metadata": {
                "execution": {
                    "iopub.execute_input": "2023-09-14T08:49:01.646998Z",
                    "iopub.status.busy": "2023-09-14T08:49:01.646628Z",
                    "iopub.status.idle": "2023-09-14T08:49:24.249627Z",
                    "shell.execute_reply": "2023-09-14T08:49:24.248339Z"
                },
                "papermill": {
                    "duration": 22.630574,
                    "end_time": "2023-09-14T08:49:24.252610",
                    "exception": false,
                    "start_time": "2023-09-14T08:49:01.622036",
                    "status": "completed"
                },
                "tags": []
            },
            "outputs": [],
            "source": [
                "rf = RandomForestClassifier(n_estimators=100, random_state=100)\n",
                "rf.fit(X_train_cv, y_train)"
            ]
        },
        {
            "cell_type": "code",
            "execution_count": null,
            "id": "3f268b35",
            "metadata": {
                "execution": {
                    "iopub.execute_input": "2023-09-14T08:49:24.307291Z",
                    "iopub.status.busy": "2023-09-14T08:49:24.306577Z",
                    "iopub.status.idle": "2023-09-14T08:49:24.577350Z",
                    "shell.execute_reply": "2023-09-14T08:49:24.576665Z"
                },
                "papermill": {
                    "duration": 0.299627,
                    "end_time": "2023-09-14T08:49:24.579452",
                    "exception": false,
                    "start_time": "2023-09-14T08:49:24.279825",
                    "status": "completed"
                },
                "tags": []
            },
            "outputs": [],
            "source": [
                "y_pred_rf = rf.predict(X_test_cv)"
            ]
        },
        {
            "cell_type": "code",
            "execution_count": null,
            "id": "2419f5c9",
            "metadata": {
                "execution": {
                    "iopub.execute_input": "2023-09-14T08:49:24.631603Z",
                    "iopub.status.busy": "2023-09-14T08:49:24.631055Z",
                    "iopub.status.idle": "2023-09-14T08:49:24.740299Z",
                    "shell.execute_reply": "2023-09-14T08:49:24.739184Z"
                },
                "papermill": {
                    "duration": 0.138386,
                    "end_time": "2023-09-14T08:49:24.742634",
                    "exception": false,
                    "start_time": "2023-09-14T08:49:24.604248",
                    "status": "completed"
                },
                "tags": []
            },
            "outputs": [],
            "source": [
                "report_rf = classification_report(y_test, y_pred_rf)\n",
                "print(\"Classification report of Random Forest classifier:\\n\", report_rf)"
            ]
        },
        {
            "cell_type": "markdown",
            "id": "a644d1b6",
            "metadata": {
                "papermill": {
                    "duration": 0.024848,
                    "end_time": "2023-09-14T08:49:24.792365",
                    "exception": false,
                    "start_time": "2023-09-14T08:49:24.767517",
                    "status": "completed"
                },
                "tags": []
            },
            "source": [
                "## Logistic Regression\n"
            ]
        },
        {
            "cell_type": "code",
            "execution_count": null,
            "id": "54e0c87b",
            "metadata": {
                "execution": {
                    "iopub.execute_input": "2023-09-14T08:49:24.844913Z",
                    "iopub.status.busy": "2023-09-14T08:49:24.844540Z",
                    "iopub.status.idle": "2023-09-14T08:49:32.482906Z",
                    "shell.execute_reply": "2023-09-14T08:49:32.482164Z"
                },
                "papermill": {
                    "duration": 7.667133,
                    "end_time": "2023-09-14T08:49:32.485009",
                    "exception": false,
                    "start_time": "2023-09-14T08:49:24.817876",
                    "status": "completed"
                },
                "tags": []
            },
            "outputs": [],
            "source": [
                "lr = LogisticRegression(max_iter=1000, random_state=100)\n",
                "lr.fit(X_train_cv, y_train)"
            ]
        },
        {
            "cell_type": "code",
            "execution_count": null,
            "id": "90da3d90",
            "metadata": {
                "execution": {
                    "iopub.execute_input": "2023-09-14T08:49:32.592085Z",
                    "iopub.status.busy": "2023-09-14T08:49:32.591748Z",
                    "iopub.status.idle": "2023-09-14T08:49:32.597739Z",
                    "shell.execute_reply": "2023-09-14T08:49:32.596670Z"
                },
                "papermill": {
                    "duration": 0.054183,
                    "end_time": "2023-09-14T08:49:32.599436",
                    "exception": false,
                    "start_time": "2023-09-14T08:49:32.545253",
                    "status": "completed"
                },
                "tags": []
            },
            "outputs": [],
            "source": [
                "y_pred_lr = lr.predict(X_test_cv)"
            ]
        },
        {
            "cell_type": "code",
            "execution_count": null,
            "id": "96710abd",
            "metadata": {
                "execution": {
                    "iopub.execute_input": "2023-09-14T08:49:32.650206Z",
                    "iopub.status.busy": "2023-09-14T08:49:32.649673Z",
                    "iopub.status.idle": "2023-09-14T08:49:32.760557Z",
                    "shell.execute_reply": "2023-09-14T08:49:32.758729Z"
                },
                "papermill": {
                    "duration": 0.138695,
                    "end_time": "2023-09-14T08:49:32.762542",
                    "exception": false,
                    "start_time": "2023-09-14T08:49:32.623847",
                    "status": "completed"
                },
                "tags": []
            },
            "outputs": [],
            "source": [
                "report_lr = classification_report(y_test, y_pred_lr)\n",
                "print(\"Classification report of Logistic Regression (Multi-Class):\\n\", report_lr)"
            ]
        },
        {
            "cell_type": "markdown",
            "id": "a00bc98d",
            "metadata": {
                "papermill": {
                    "duration": 0.024272,
                    "end_time": "2023-09-14T08:49:32.811617",
                    "exception": false,
                    "start_time": "2023-09-14T08:49:32.787345",
                    "status": "completed"
                },
                "tags": []
            },
            "source": [
                "## Naive Bayes\n"
            ]
        },
        {
            "cell_type": "code",
            "execution_count": null,
            "id": "188a292b",
            "metadata": {
                "execution": {
                    "iopub.execute_input": "2023-09-14T08:49:32.862137Z",
                    "iopub.status.busy": "2023-09-14T08:49:32.861838Z",
                    "iopub.status.idle": "2023-09-14T08:49:32.936194Z",
                    "shell.execute_reply": "2023-09-14T08:49:32.935177Z"
                },
                "papermill": {
                    "duration": 0.102774,
                    "end_time": "2023-09-14T08:49:32.938737",
                    "exception": false,
                    "start_time": "2023-09-14T08:49:32.835963",
                    "status": "completed"
                },
                "tags": []
            },
            "outputs": [],
            "source": [
                "nb = MultinomialNB()\n",
                "nb.fit(X_train_cv, y_train)"
            ]
        },
        {
            "cell_type": "code",
            "execution_count": null,
            "id": "40a14855",
            "metadata": {
                "execution": {
                    "iopub.execute_input": "2023-09-14T08:49:32.992131Z",
                    "iopub.status.busy": "2023-09-14T08:49:32.991808Z",
                    "iopub.status.idle": "2023-09-14T08:49:32.997531Z",
                    "shell.execute_reply": "2023-09-14T08:49:32.996645Z"
                },
                "papermill": {
                    "duration": 0.035342,
                    "end_time": "2023-09-14T08:49:32.999908",
                    "exception": false,
                    "start_time": "2023-09-14T08:49:32.964566",
                    "status": "completed"
                },
                "tags": []
            },
            "outputs": [],
            "source": [
                "y_pred_nb = nb.predict(X_test_cv)"
            ]
        },
        {
            "cell_type": "code",
            "execution_count": null,
            "id": "ce8d4987",
            "metadata": {
                "execution": {
                    "iopub.execute_input": "2023-09-14T08:49:33.052406Z",
                    "iopub.status.busy": "2023-09-14T08:49:33.052055Z",
                    "iopub.status.idle": "2023-09-14T08:49:33.135854Z",
                    "shell.execute_reply": "2023-09-14T08:49:33.134398Z"
                },
                "papermill": {
                    "duration": 0.112794,
                    "end_time": "2023-09-14T08:49:33.138235",
                    "exception": false,
                    "start_time": "2023-09-14T08:49:33.025441",
                    "status": "completed"
                },
                "tags": []
            },
            "outputs": [],
            "source": [
                "report_nb = classification_report(y_test, y_pred_nb)\n",
                "print(\"Classification report of Multinomial Naive Bayes:\\n\", report_nb)"
            ]
        },
        {
            "cell_type": "markdown",
            "id": "2df55a0b",
            "metadata": {
                "papermill": {
                    "duration": 0.025314,
                    "end_time": "2023-09-14T08:49:33.189078",
                    "exception": false,
                    "start_time": "2023-09-14T08:49:33.163764",
                    "status": "completed"
                },
                "tags": []
            },
            "source": [
                "## SVM\n"
            ]
        },
        {
            "cell_type": "code",
            "execution_count": null,
            "id": "0e40a049",
            "metadata": {
                "execution": {
                    "iopub.execute_input": "2023-09-14T08:49:33.240726Z",
                    "iopub.status.busy": "2023-09-14T08:49:33.240320Z",
                    "iopub.status.idle": "2023-09-14T08:49:35.190459Z",
                    "shell.execute_reply": "2023-09-14T08:49:35.189626Z"
                },
                "papermill": {
                    "duration": 1.977812,
                    "end_time": "2023-09-14T08:49:35.192228",
                    "exception": false,
                    "start_time": "2023-09-14T08:49:33.214416",
                    "status": "completed"
                },
                "tags": []
            },
            "outputs": [],
            "source": [
                "svm = LinearSVC(random_state=100, max_iter=2000, dual=True)\n",
                "svm.fit(X_train_cv, y_train)"
            ]
        },
        {
            "cell_type": "code",
            "execution_count": null,
            "id": "ddae3e72",
            "metadata": {
                "execution": {
                    "iopub.execute_input": "2023-09-14T08:49:35.243229Z",
                    "iopub.status.busy": "2023-09-14T08:49:35.242893Z",
                    "iopub.status.idle": "2023-09-14T08:49:35.248737Z",
                    "shell.execute_reply": "2023-09-14T08:49:35.247774Z"
                },
                "papermill": {
                    "duration": 0.034102,
                    "end_time": "2023-09-14T08:49:35.250821",
                    "exception": false,
                    "start_time": "2023-09-14T08:49:35.216719",
                    "status": "completed"
                },
                "tags": []
            },
            "outputs": [],
            "source": [
                "y_pred_svm = svm.predict(X_test_cv)"
            ]
        },
        {
            "cell_type": "code",
            "execution_count": null,
            "id": "31d35112",
            "metadata": {
                "execution": {
                    "iopub.execute_input": "2023-09-14T08:49:35.302842Z",
                    "iopub.status.busy": "2023-09-14T08:49:35.302176Z",
                    "iopub.status.idle": "2023-09-14T08:49:35.419369Z",
                    "shell.execute_reply": "2023-09-14T08:49:35.417526Z"
                },
                "papermill": {
                    "duration": 0.146236,
                    "end_time": "2023-09-14T08:49:35.421960",
                    "exception": false,
                    "start_time": "2023-09-14T08:49:35.275724",
                    "status": "completed"
                },
                "tags": []
            },
            "outputs": [],
            "source": [
                "report_svm = classification_report(y_test, y_pred_svm)\n",
                "print(\"Classification report of Linear SVM:\\n\", report_svm)"
            ]
        },
        {
            "cell_type": "markdown",
            "id": "1b1420b2",
            "metadata": {
                "papermill": {
                    "duration": 0.025264,
                    "end_time": "2023-09-14T08:49:35.472968",
                    "exception": false,
                    "start_time": "2023-09-14T08:49:35.447704",
                    "status": "completed"
                },
                "tags": []
            },
            "source": [
                "## LSTM\n"
            ]
        },
        {
            "cell_type": "code",
            "execution_count": null,
            "id": "2302ef28",
            "metadata": {
                "execution": {
                    "iopub.execute_input": "2023-09-14T08:49:35.524191Z",
                    "iopub.status.busy": "2023-09-14T08:49:35.523831Z",
                    "iopub.status.idle": "2023-09-14T08:49:35.535337Z",
                    "shell.execute_reply": "2023-09-14T08:49:35.534716Z"
                },
                "papermill": {
                    "duration": 0.039609,
                    "end_time": "2023-09-14T08:49:35.537068",
                    "exception": false,
                    "start_time": "2023-09-14T08:49:35.497459",
                    "status": "completed"
                },
                "tags": []
            },
            "outputs": [],
            "source": [
                "le = LabelEncoder()\n",
                "y_train_lstm = le.fit_transform(y_train)\n",
                "y_test_lstm = le.transform(y_test)"
            ]
        },
        {
            "cell_type": "code",
            "execution_count": null,
            "id": "745f133a",
            "metadata": {
                "execution": {
                    "iopub.execute_input": "2023-09-14T08:49:35.591117Z",
                    "iopub.status.busy": "2023-09-14T08:49:35.590781Z",
                    "iopub.status.idle": "2023-09-14T08:49:36.270804Z",
                    "shell.execute_reply": "2023-09-14T08:49:36.269657Z"
                },
                "papermill": {
                    "duration": 0.709472,
                    "end_time": "2023-09-14T08:49:36.273152",
                    "exception": false,
                    "start_time": "2023-09-14T08:49:35.563680",
                    "status": "completed"
                },
                "tags": []
            },
            "outputs": [],
            "source": [
                "tokenizer = Tokenizer(num_words=5000)\n",
                "tokenizer.fit_on_texts(X_train)\n",
                "X_train_seq = tokenizer.texts_to_sequences(X_train)\n",
                "X_test_seq = tokenizer.texts_to_sequences(X_test)"
            ]
        },
        {
            "cell_type": "code",
            "execution_count": null,
            "id": "8f9025a7",
            "metadata": {
                "execution": {
                    "iopub.execute_input": "2023-09-14T08:49:36.326839Z",
                    "iopub.status.busy": "2023-09-14T08:49:36.326503Z",
                    "iopub.status.idle": "2023-09-14T08:49:36.385921Z",
                    "shell.execute_reply": "2023-09-14T08:49:36.384934Z"
                },
                "papermill": {
                    "duration": 0.089971,
                    "end_time": "2023-09-14T08:49:36.388405",
                    "exception": false,
                    "start_time": "2023-09-14T08:49:36.298434",
                    "status": "completed"
                },
                "tags": []
            },
            "outputs": [],
            "source": [
                "max_len = max(len(seq) for seq in X_train_seq)\n",
                "X_train_padded = pad_sequences(X_train_seq, maxlen=max_len, padding=\"post\")\n",
                "X_test_padded = pad_sequences(X_test_seq, maxlen=max_len, padding=\"post\")"
            ]
        },
        {
            "cell_type": "code",
            "execution_count": null,
            "id": "0bbefbf1",
            "metadata": {
                "execution": {
                    "iopub.execute_input": "2023-09-14T08:49:36.443807Z",
                    "iopub.status.busy": "2023-09-14T08:49:36.443358Z",
                    "iopub.status.idle": "2023-09-14T08:49:36.887414Z",
                    "shell.execute_reply": "2023-09-14T08:49:36.885709Z"
                },
                "papermill": {
                    "duration": 0.476766,
                    "end_time": "2023-09-14T08:49:36.889830",
                    "exception": false,
                    "start_time": "2023-09-14T08:49:36.413064",
                    "status": "completed"
                },
                "tags": []
            },
            "outputs": [],
            "source": [
                "model = Sequential()\n",
                "model.add(Input(shape=(max_len,)))\n",
                "model.add(Embedding(input_dim=5000, output_dim=32))\n",
                "model.add(LSTM(32))\n",
                "model.add(Dense(len(labels), activation=\"softmax\"))\n",
                "model.compile(\n",
                "    loss=\"sparse_categorical_crossentropy\", optimizer=\"adam\", metrics=[\"accuracy\"]\n",
                ")\n",
                "model.summary()"
            ]
        },
        {
            "cell_type": "code",
            "execution_count": null,
            "id": "3cb6f4e6",
            "metadata": {
                "execution": {
                    "iopub.execute_input": "2023-09-14T08:49:36.943022Z",
                    "iopub.status.busy": "2023-09-14T08:49:36.942484Z",
                    "iopub.status.idle": "2023-09-14T08:50:35.005393Z",
                    "shell.execute_reply": "2023-09-14T08:50:35.004232Z"
                },
                "papermill": {
                    "duration": 58.092149,
                    "end_time": "2023-09-14T08:50:35.007314",
                    "exception": false,
                    "start_time": "2023-09-14T08:49:36.915165",
                    "status": "completed"
                },
                "tags": []
            },
            "outputs": [],
            "source": [
                "early_stop = EarlyStopping(monitor=\"val_loss\", patience=3)\n",
                "history = model.fit(\n",
                "    X_train_padded,\n",
                "    y_train_lstm,\n",
                "    epochs=25,\n",
                "    validation_split=0.2,\n",
                "    callbacks=[early_stop],\n",
                ")"
            ]
        },
        {
            "cell_type": "code",
            "execution_count": null,
            "id": "f1f3e1a5",
            "metadata": {
                "execution": {
                    "iopub.execute_input": "2023-09-14T08:50:35.154628Z",
                    "iopub.status.busy": "2023-09-14T08:50:35.154260Z",
                    "iopub.status.idle": "2023-09-14T08:50:36.320158Z",
                    "shell.execute_reply": "2023-09-14T08:50:36.318505Z"
                },
                "papermill": {
                    "duration": 1.241271,
                    "end_time": "2023-09-14T08:50:36.322120",
                    "exception": false,
                    "start_time": "2023-09-14T08:50:35.080849",
                    "status": "completed"
                },
                "tags": []
            },
            "outputs": [],
            "source": [
                "y_pred = model.predict(X_test_padded)\n",
                "y_pred = np.argmax(y_pred, axis=1)\n",
                "accuracy = accuracy_score(y_test_lstm, y_pred)\n",
                "report = classification_report(\n",
                "    y_test_lstm, y_pred, target_names=labels, zero_division=0\n",
                ")\n",
                "print(\"Accuracy:\", accuracy)\n",
                "print(\"Classification report of LSTM:\\n\", report)"
            ]
        },
        {
            "cell_type": "markdown",
            "id": "e531a6e5",
            "metadata": {},
            "source": [
                "## CNN\n"
            ]
        },
        {
            "cell_type": "code",
            "execution_count": null,
            "id": "91392d3a",
            "metadata": {},
            "outputs": [],
            "source": [
                "le = LabelEncoder()\n",
                "y_train_cnn = le.fit_transform(y_train)\n",
                "y_train_cnn = to_categorical(y_train_cnn)\n",
                "y_test_cnn = le.transform(y_test)\n",
                "y_test_cnn = to_categorical(y_test_cnn)"
            ]
        },
        {
            "cell_type": "code",
            "execution_count": null,
            "id": "d2e267ee",
            "metadata": {},
            "outputs": [],
            "source": [
                "tokenizer = Tokenizer(num_words=5000)\n",
                "tokenizer.fit_on_texts(X_train)\n",
                "X_train_seq = tokenizer.texts_to_sequences(X_train)\n",
                "X_test_seq = tokenizer.texts_to_sequences(X_test)"
            ]
        },
        {
            "cell_type": "code",
            "execution_count": null,
            "id": "7b1ccd32",
            "metadata": {},
            "outputs": [],
            "source": [
                "max_len = max(len(seq) for seq in X_train_seq)\n",
                "X_train_padded = pad_sequences(X_train_seq, maxlen=max_len, padding=\"post\")\n",
                "X_test_padded = pad_sequences(X_test_seq, maxlen=max_len, padding=\"post\")"
            ]
        },
        {
            "cell_type": "code",
            "execution_count": null,
            "id": "ded7f768",
            "metadata": {},
            "outputs": [],
            "source": [
                "model = Sequential()\n",
                "model.add(Input(shape=(max_len,)))\n",
                "model.add(Embedding(input_dim=5000, output_dim=32))\n",
                "model.add(Conv1D(64, 5, padding=\"same\", activation=\"relu\"))\n",
                "model.add(BatchNormalization())\n",
                "model.add(ReLU())\n",
                "model.add(Dropout(0.5))\n",
                "model.add(GlobalMaxPooling1D())\n",
                "model.add(Dense(128, activation=\"relu\"))\n",
                "model.add(Dropout(0.3))\n",
                "model.add(Dense(len(labels), activation=\"softmax\"))\n",
                "\n",
                "model.compile(\n",
                "    optimizer=\"adamax\",\n",
                "    loss=\"categorical_crossentropy\",\n",
                "    metrics=[\"accuracy\", Precision(), Recall()],\n",
                ")\n",
                "model.summary()"
            ]
        },
        {
            "cell_type": "code",
            "execution_count": null,
            "id": "55e87cbb",
            "metadata": {},
            "outputs": [],
            "source": [
                "history = model.fit(X_train_padded, y_train_cnn, epochs=25, validation_split=0.2)"
            ]
        },
        {
            "cell_type": "code",
            "execution_count": null,
            "id": "f5a9c016",
            "metadata": {},
            "outputs": [],
            "source": [
                "y_pred = model.predict(X_test_padded)\n",
                "y_pred_labels = np.argmax(y_pred, axis=1)\n",
                "y_test_labels = np.argmax(y_test_cnn, axis=1)\n",
                "accuracy = accuracy_score(y_test_labels, y_pred_labels)\n",
                "report = classification_report(\n",
                "    y_test_labels, y_pred_labels, target_names=labels, zero_division=0\n",
                ")\n",
                "\n",
                "print(\"Accuracy:\", accuracy)\n",
                "print(\"Classification report of CNN:\\n\", report)"
            ]
        }
    ],
    "kernelspec": {
        "display_name": "Python 3",
        "language": "python",
        "name": "python3"
    },
    "language_info": {
        "codemirror_mode": {
            "name": "ipython",
            "version": 3
        },
        "file_extension": ".py",
        "mimetype": "text/x-python",
        "name": "python",
        "nbconvert_exporter": "python",
        "pygments_lexer": "ipython3",
        "version": "3.6.4"
    },
    "metadata": {
        "kernelspec": {
            "display_name": "Python 3",
            "language": "python",
            "name": "python3"
        },
        "language_info": {
            "codemirror_mode": {
                "name": "ipython",
                "version": 3
            },
            "file_extension": ".py",
            "mimetype": "text/x-python",
            "name": "python",
            "nbconvert_exporter": "python",
            "pygments_lexer": "ipython3",
            "version": "3.11.7"
        },
        "papermill": {
            "default_parameters": {},
            "duration": 121.085058,
            "end_time": "2023-09-14T08:50:38.281149",
            "environment_variables": {},
            "exception": null,
            "input_path": "__notebook__.ipynb",
            "output_path": "__notebook__.ipynb",
            "parameters": {},
            "start_time": "2023-09-14T08:48:37.196091",
            "version": "2.4.0"
        }
    },
    "nbformat": 4,
    "nbformat_minor": 5
}
